
import pandas as pd


data = pd.read_csv('Absenteeism_data.csv')


data.drop('ID', axis=1, inplace=True)


reason_columns = pd.get_dummies(data['Reason for Absence'], drop_first=True)

group_1 = reason_columns.loc[:, 1:14].max(axis=1)
group_2 = reason_columns.loc[:, 15:17].max(axis=1)
group_3 = reason_columns.loc[:, 18:21].max(axis=1)
group_4 = reason_columns.loc[:, 22:28].max(axis=1)


data = pd.concat([data, group_1, group_2, group_3, group_4], axis=1)
data.columns = list(data.columns[:-4]) + ['Group_1', 'Group_2', 'Group_3', 'Group_4']


data.drop('Reason for Absence', axis=1, inplace=True)

# Step 4: Extract month and day of the week from the 'Date' column
data['Date'] = pd.to_datetime(data['Date'], format='%d/%m/%Y')
data['Month'] = data['Date'].apply(lambda x: x.month)
data['Day of the Week'] = data['Date'].apply(lambda x: x.dayofweek)

data.drop('Date', axis=1, inplace=True)


data['Education'] = data['Education'].map({1: 0, 2: 1, 3: 1, 4: 1})

data.to_csv('df_preprocessed.csv', index=False)
